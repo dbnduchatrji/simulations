{
  "nbformat": 4,
  "nbformat_minor": 0,
  "metadata": {
    "colab": {
      "name": "gravity_ODE_solver.ipynb",
      "provenance": [],
      "authorship_tag": "ABX9TyPEZpTUH1p6iwkR18sj727u",
      "include_colab_link": true
    },
    "kernelspec": {
      "name": "python3",
      "display_name": "Python 3"
    },
    "language_info": {
      "name": "python"
    }
  },
  "cells": [
    {
      "cell_type": "markdown",
      "metadata": {
        "id": "view-in-github",
        "colab_type": "text"
      },
      "source": [
        "<a href=\"https://colab.research.google.com/github/dchatterjee/numerical-methods-workspace/blob/main/gravity_ODE_solver.ipynb\" target=\"_parent\"><img src=\"https://colab.research.google.com/assets/colab-badge.svg\" alt=\"Open In Colab\"/></a>"
      ]
    },
    {
      "cell_type": "code",
      "execution_count": 1,
      "metadata": {
        "id": "JG-1tGpciPvv"
      },
      "outputs": [],
      "source": [
        "import numpy as np\n",
        "import matplotlib.pyplot as plt\n",
        "from scipy.integrate import odeint"
      ]
    },
    {
      "cell_type": "markdown",
      "source": [
        "gravity + air friction\n",
        "\n",
        "$$\\frac{dv_x}{dt} = -\\frac{b}{m}\\sqrt{v_x^2 + v_y^2} \\cdot v_x $$\n",
        "$$\\frac{dv_y}{dt} = - g -\\frac{b}{m}\\sqrt{v_x^2 + v_y^2} \\cdot v_y $$\n",
        "\n",
        "$\\vec{S} = (v_x, v_y)$. To solve ODEs in python."
      ],
      "metadata": {
        "id": "ZxihHmrKiYx0"
      }
    },
    {
      "cell_type": "code",
      "source": [
        "def dSdt(S, t, g, m, b):\n",
        "    vx = S[0]\n",
        "    vy = S[1]\n",
        "    return [\n",
        "        -b/m * np.sqrt(vx**2+vy**2) * vx, #dvx/dt\n",
        "        -g - b/m * np.sqrt(vx**2+vy**2) * vy #dvy/dt\n",
        "    ]"
      ],
      "metadata": {
        "id": "mjX3z1wQiXPe"
      },
      "execution_count": 2,
      "outputs": []
    },
    {
      "cell_type": "code",
      "source": [
        "t= np.linspace(0, 20 ,100)\n",
        "m = 80\n",
        "g = 9.81\n",
        "vt = -55\n",
        "b = m*g/vt**2\n",
        "v0x, v0y = 50, 0"
      ],
      "metadata": {
        "id": "9IiQbTMuilPD"
      },
      "execution_count": 3,
      "outputs": []
    },
    {
      "cell_type": "code",
      "source": [
        "sol = odeint(dSdt, y0=[v0x, v0y], t=t, args=(g, m, b))"
      ],
      "metadata": {
        "id": "_jo2uPdYinI0"
      },
      "execution_count": 4,
      "outputs": []
    },
    {
      "cell_type": "code",
      "source": [
        "vx = sol.T[0]\n",
        "vy = sol.T[1]"
      ],
      "metadata": {
        "id": "f8o1IBHaipJ5"
      },
      "execution_count": 5,
      "outputs": []
    },
    {
      "cell_type": "code",
      "source": [
        "plt.plot(t, vx)\n",
        "plt.show()"
      ],
      "metadata": {
        "colab": {
          "base_uri": "https://localhost:8080/",
          "height": 265
        },
        "id": "WEopTlIDirDE",
        "outputId": "1b5c17d2-8731-4a46-f07a-e7895279de47"
      },
      "execution_count": 6,
      "outputs": [
        {
          "output_type": "display_data",
          "data": {
            "image/png": "[encoded data removed]",
            "text/plain": [
              "<Figure size 432x288 with 1 Axes>"
            ]
          },
          "metadata": {
            "needs_background": "light"
          }
        }
      ]
    },
    {
      "cell_type": "code",
      "source": [
        "plt.plot(t, vy)\n",
        "plt.axhline(vt, color='r')\n",
        "plt.show()"
      ],
      "metadata": {
        "colab": {
          "base_uri": "https://localhost:8080/",
          "height": 265
        },
        "id": "EOWaiPaaitAq",
        "outputId": "b7d0a603-b781-4b08-f459-550dfa15d01c"
      },
      "execution_count": 7,
      "outputs": [
        {
          "output_type": "display_data",
          "data": {
            "image/png": "[encoded data removed]",
            "text/plain": [
              "<Figure size 432x288 with 1 Axes>"
            ]
          },
          "metadata": {
            "needs_background": "light"
          }
        }
      ]
    },
    {
      "cell_type": "markdown",
      "source": [
        "How long until one reaches terminal velocity?"
      ],
      "metadata": {
        "id": "LRgFkgdKi2XN"
      }
    },
    {
      "cell_type": "code",
      "source": [
        "ind = np.abs(vy - vt)/np.abs(vt) < 0.01"
      ],
      "metadata": {
        "id": "Opm9-KDuivQY"
      },
      "execution_count": 8,
      "outputs": []
    },
    {
      "cell_type": "code",
      "source": [
        "t[ind]"
      ],
      "metadata": {
        "colab": {
          "base_uri": "https://localhost:8080/"
        },
        "id": "EMdgOF3si47A",
        "outputId": "a52ec480-aea8-44e1-dfa6-ed89854916d0"
      },
      "execution_count": 9,
      "outputs": [
        {
          "output_type": "execute_result",
          "data": {
            "text/plain": [
              "array([17.17171717, 17.37373737, 17.57575758, 17.77777778, 17.97979798,\n",
              "       18.18181818, 18.38383838, 18.58585859, 18.78787879, 18.98989899,\n",
              "       19.19191919, 19.39393939, 19.5959596 , 19.7979798 , 20.        ])"
            ]
          },
          "metadata": {},
          "execution_count": 9
        }
      ]
    },
    {
      "cell_type": "code",
      "source": [
        ""
      ],
      "metadata": {
        "id": "ua_kSzJ0i67s"
      },
      "execution_count": null,
      "outputs": []
    }
  ]
}